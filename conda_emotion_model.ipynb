{
 "cells": [
  {
   "cell_type": "code",
   "execution_count": 1,
   "metadata": {},
   "outputs": [
    {
     "name": "stderr",
     "output_type": "stream",
     "text": [
      "Using TensorFlow backend.\n",
      "/home/z1l3/.conda/envs/my_env/lib/python3.7/site-packages/tensorflow/python/framework/dtypes.py:516: FutureWarning: Passing (type, 1) or '1type' as a synonym of type is deprecated; in a future version of numpy, it will be understood as (type, (1,)) / '(1,)type'.\n",
      "  _np_qint8 = np.dtype([(\"qint8\", np.int8, 1)])\n",
      "/home/z1l3/.conda/envs/my_env/lib/python3.7/site-packages/tensorflow/python/framework/dtypes.py:517: FutureWarning: Passing (type, 1) or '1type' as a synonym of type is deprecated; in a future version of numpy, it will be understood as (type, (1,)) / '(1,)type'.\n",
      "  _np_quint8 = np.dtype([(\"quint8\", np.uint8, 1)])\n",
      "/home/z1l3/.conda/envs/my_env/lib/python3.7/site-packages/tensorflow/python/framework/dtypes.py:518: FutureWarning: Passing (type, 1) or '1type' as a synonym of type is deprecated; in a future version of numpy, it will be understood as (type, (1,)) / '(1,)type'.\n",
      "  _np_qint16 = np.dtype([(\"qint16\", np.int16, 1)])\n",
      "/home/z1l3/.conda/envs/my_env/lib/python3.7/site-packages/tensorflow/python/framework/dtypes.py:519: FutureWarning: Passing (type, 1) or '1type' as a synonym of type is deprecated; in a future version of numpy, it will be understood as (type, (1,)) / '(1,)type'.\n",
      "  _np_quint16 = np.dtype([(\"quint16\", np.uint16, 1)])\n",
      "/home/z1l3/.conda/envs/my_env/lib/python3.7/site-packages/tensorflow/python/framework/dtypes.py:520: FutureWarning: Passing (type, 1) or '1type' as a synonym of type is deprecated; in a future version of numpy, it will be understood as (type, (1,)) / '(1,)type'.\n",
      "  _np_qint32 = np.dtype([(\"qint32\", np.int32, 1)])\n",
      "/home/z1l3/.conda/envs/my_env/lib/python3.7/site-packages/tensorflow/python/framework/dtypes.py:525: FutureWarning: Passing (type, 1) or '1type' as a synonym of type is deprecated; in a future version of numpy, it will be understood as (type, (1,)) / '(1,)type'.\n",
      "  np_resource = np.dtype([(\"resource\", np.ubyte, 1)])\n",
      "/home/z1l3/.conda/envs/my_env/lib/python3.7/site-packages/tensorboard/compat/tensorflow_stub/dtypes.py:541: FutureWarning: Passing (type, 1) or '1type' as a synonym of type is deprecated; in a future version of numpy, it will be understood as (type, (1,)) / '(1,)type'.\n",
      "  _np_qint8 = np.dtype([(\"qint8\", np.int8, 1)])\n",
      "/home/z1l3/.conda/envs/my_env/lib/python3.7/site-packages/tensorboard/compat/tensorflow_stub/dtypes.py:542: FutureWarning: Passing (type, 1) or '1type' as a synonym of type is deprecated; in a future version of numpy, it will be understood as (type, (1,)) / '(1,)type'.\n",
      "  _np_quint8 = np.dtype([(\"quint8\", np.uint8, 1)])\n",
      "/home/z1l3/.conda/envs/my_env/lib/python3.7/site-packages/tensorboard/compat/tensorflow_stub/dtypes.py:543: FutureWarning: Passing (type, 1) or '1type' as a synonym of type is deprecated; in a future version of numpy, it will be understood as (type, (1,)) / '(1,)type'.\n",
      "  _np_qint16 = np.dtype([(\"qint16\", np.int16, 1)])\n",
      "/home/z1l3/.conda/envs/my_env/lib/python3.7/site-packages/tensorboard/compat/tensorflow_stub/dtypes.py:544: FutureWarning: Passing (type, 1) or '1type' as a synonym of type is deprecated; in a future version of numpy, it will be understood as (type, (1,)) / '(1,)type'.\n",
      "  _np_quint16 = np.dtype([(\"quint16\", np.uint16, 1)])\n",
      "/home/z1l3/.conda/envs/my_env/lib/python3.7/site-packages/tensorboard/compat/tensorflow_stub/dtypes.py:545: FutureWarning: Passing (type, 1) or '1type' as a synonym of type is deprecated; in a future version of numpy, it will be understood as (type, (1,)) / '(1,)type'.\n",
      "  _np_qint32 = np.dtype([(\"qint32\", np.int32, 1)])\n",
      "/home/z1l3/.conda/envs/my_env/lib/python3.7/site-packages/tensorboard/compat/tensorflow_stub/dtypes.py:550: FutureWarning: Passing (type, 1) or '1type' as a synonym of type is deprecated; in a future version of numpy, it will be understood as (type, (1,)) / '(1,)type'.\n",
      "  np_resource = np.dtype([(\"resource\", np.ubyte, 1)])\n"
     ]
    }
   ],
   "source": [
    "import os.path as path\n",
    "import os\n",
    "import pandas as pd\n",
    "import numpy as np\n",
    "from keras import backend as K\n",
    "from keras.utils import np_utils\n",
    "from keras.models import Sequential\n",
    "from keras.layers import activations, regularizers, Conv2D, MaxPooling2D, BatchNormalization, Dropout, Flatten, Dense\n",
    "from keras.losses import categorical_crossentropy\n",
    "from keras.regularizers import l2\n",
    "from keras.models import load_model\n",
    "from keras.optimizers import Adam\n",
    "import tensorflow as tf\n",
    "from tensorflow.python.tools import freeze_graph\n",
    "from tensorflow.python.tools import optimize_for_inference_lib\n",
    "from keras.utils import plot_model\n",
    "import matplotlib.pyplot as plt\n",
    "\n"
   ]
  },
  {
   "cell_type": "code",
   "execution_count": 2,
   "metadata": {},
   "outputs": [
    {
     "name": "stdout",
     "output_type": "stream",
     "text": [
      "WARNING:tensorflow:From /home/z1l3/.conda/envs/my_env/lib/python3.7/site-packages/keras/backend/tensorflow_backend.py:153: The name tf.get_default_graph is deprecated. Please use tf.compat.v1.get_default_graph instead.\n",
      "\n"
     ]
    }
   ],
   "source": [
    "K.set_learning_phase(0)\n",
    "MODEL_NAME = 'emotion_convnet'\n",
    "img_rows, img_cols = 48, 48\n",
    "count_features, count_labels = 64, 7\n",
    "batch_size = 63\n",
    "epochs = 99"
   ]
  },
  {
   "cell_type": "code",
   "execution_count": 3,
   "metadata": {},
   "outputs": [],
   "source": [
    "def load_dataset():\n",
    "    data_set = pd.read_csv('fer2013.csv')\n",
    "    x_train = []\n",
    "    x_test = []\n",
    "    y_train = []\n",
    "    y_test = []\n",
    "    for each, item in data_set.iterrows():\n",
    "        instance = item['pixels'].split(\" \")\n",
    "        try:\n",
    "            if item['Usage'] == 'PublicTest':\n",
    "                x_test.append(np.array(instance, 'float32'))\n",
    "                y_test.append(item['emotion'])\n",
    "            elif item['Usage'] == 'Training':\n",
    "                x_train.append(np.array(instance, 'float32'))\n",
    "                y_train.append(item['emotion'])\n",
    "        except:\n",
    "            print('No instance found')\n",
    "    return x_train, y_train, x_test, y_test"
   ]
  },
  {
   "cell_type": "code",
   "execution_count": null,
   "metadata": {},
   "outputs": [],
   "source": [
    "# data_set.tail()"
   ]
  },
  {
   "cell_type": "code",
   "execution_count": 4,
   "metadata": {},
   "outputs": [],
   "source": [
    "def prepare_data_set():\n",
    "    x_train, y_train, x_test, y_test = load_dataset()\n",
    "    x_train = np.array(x_train, 'float32')\n",
    "    x_train -= np.mean(x_train, axis=0)\n",
    "    x_train /= np.std(x_train, axis=0)\n",
    "    x_train = x_train.reshape(x_train.shape[0], img_rows, img_cols, 1)\n",
    "\n",
    "    x_test = np.array(x_test, 'float32')\n",
    "    x_test -= np.mean(x_test, axis=0)\n",
    "    x_test /= np.std(x_test, axis=0)\n",
    "    x_test = x_test.reshape(x_test.shape[0], img_rows, img_cols, 1)\n",
    "\n",
    "    y_train = np.array(y_train, 'float32')\n",
    "    y_train = np_utils.to_categorical(y_train, count_labels)\n",
    "\n",
    "    y_test = np.array(y_test, 'float32')\n",
    "    y_test = np_utils.to_categorical(y_test, count_labels)\n",
    "    return x_train, y_train, x_test, y_test"
   ]
  },
  {
   "cell_type": "code",
   "execution_count": 14,
   "metadata": {},
   "outputs": [],
   "source": [
    "def build_model():\n",
    "    input_shape = [img_rows, img_cols, 1]\n",
    "    activation = 'relu'\n",
    "    kernel_size = (3, 3)\n",
    "    pool_size = (2, 2)\n",
    "    strides = (2, 2)\n",
    "    kernel_regularizer = regularizers.l2(0.0001)\n",
    "\n",
    "    model = Sequential()\n",
    "    model.add(Conv2D(filters=64, kernel_size=kernel_size, activation=activation, input_shape=input_shape))\n",
    "    model.add(Conv2D(filters=64, kernel_size=kernel_size, activation=activation, kernel_regularizer=kernel_regularizer))\n",
    "    model.add(BatchNormalization())\n",
    "    model.add(MaxPooling2D(pool_size=pool_size, strides=strides))\n",
    "    model.add(Dropout(0.5))\n",
    "\n",
    "    model.add(Conv2D(filters=64, kernel_size=kernel_size, activation=activation, kernel_regularizer=kernel_regularizer))\n",
    "    model.add(Conv2D(filters=64, kernel_size=kernel_size, activation=activation))\n",
    "    model.add(BatchNormalization())\n",
    "    model.add(MaxPooling2D(pool_size=pool_size, strides=strides))\n",
    "    model.add(Dropout(0.5))\n",
    "\n",
    "    model.add(\n",
    "        Conv2D(filters=128, kernel_size=kernel_size, activation=activation, kernel_regularizer=kernel_regularizer))\n",
    "    model.add(\n",
    "        Conv2D(filters=128, kernel_size=kernel_size, activation=activation, kernel_regularizer=kernel_regularizer))\n",
    "    model.add(BatchNormalization())\n",
    "    model.add(MaxPooling2D(pool_size=pool_size, strides=strides))\n",
    "    model.add(Flatten())\n",
    "    model.add(Dense(1024, activation=activation))\n",
    "    model.add(Dropout(0.2))\n",
    "    model.add(Dense(1024, activation=activation))\n",
    "    model.add(Dropout(0.2))\n",
    "\n",
    "    model.add(Dense(count_labels, activation='softmax'))\n",
    "    return model"
   ]
  },
  {
   "cell_type": "code",
   "execution_count": 6,
   "metadata": {},
   "outputs": [],
   "source": [
    "def train_model(my_model, x_train, y_train, x_test, y_test):\n",
    "    my_model.compile(loss=categorical_crossentropy, optimizer=Adam(), metrics=['accuracy'])\n",
    "    \n",
    "    history = my_model.fit(x_train, y_train, batch_size=batch_size, epochs=epochs,\n",
    "                 verbose=1, validation_data=(x_test, y_test), shuffle=True)\n",
    "    return history"
   ]
  },
  {
   "cell_type": "code",
   "execution_count": 8,
   "metadata": {},
   "outputs": [],
   "source": [
    "def model_summary():\n",
    "    print(model.summary())\n",
    "    plot_model(model, to_file='model_plot.png', show_shapes=True, show_layer_names=True)"
   ]
  },
  {
   "cell_type": "code",
   "execution_count": 9,
   "metadata": {},
   "outputs": [
    {
     "name": "stdout",
     "output_type": "stream",
     "text": [
      "WARNING:tensorflow:From /home/z1l3/.conda/envs/my_env/lib/python3.7/site-packages/keras/backend/tensorflow_backend.py:517: The name tf.placeholder is deprecated. Please use tf.compat.v1.placeholder instead.\n",
      "\n",
      "WARNING:tensorflow:From /home/z1l3/.conda/envs/my_env/lib/python3.7/site-packages/keras/backend/tensorflow_backend.py:4138: The name tf.random_uniform is deprecated. Please use tf.random.uniform instead.\n",
      "\n",
      "WARNING:tensorflow:From /home/z1l3/.conda/envs/my_env/lib/python3.7/site-packages/keras/backend/tensorflow_backend.py:3976: The name tf.nn.max_pool is deprecated. Please use tf.nn.max_pool2d instead.\n",
      "\n",
      "_________________________________________________________________\n",
      "Layer (type)                 Output Shape              Param #   \n",
      "=================================================================\n",
      "conv2d_1 (Conv2D)            (None, 46, 46, 64)        640       \n",
      "_________________________________________________________________\n",
      "conv2d_2 (Conv2D)            (None, 44, 44, 64)        36928     \n",
      "_________________________________________________________________\n",
      "max_pooling2d_1 (MaxPooling2 (None, 22, 22, 64)        0         \n",
      "_________________________________________________________________\n",
      "dropout_1 (Dropout)          (None, 22, 22, 64)        0         \n",
      "_________________________________________________________________\n",
      "conv2d_3 (Conv2D)            (None, 20, 20, 64)        36928     \n",
      "_________________________________________________________________\n",
      "conv2d_4 (Conv2D)            (None, 18, 18, 64)        36928     \n",
      "_________________________________________________________________\n",
      "max_pooling2d_2 (MaxPooling2 (None, 9, 9, 64)          0         \n",
      "_________________________________________________________________\n",
      "dropout_2 (Dropout)          (None, 9, 9, 64)          0         \n",
      "_________________________________________________________________\n",
      "conv2d_5 (Conv2D)            (None, 7, 7, 128)         73856     \n",
      "_________________________________________________________________\n",
      "conv2d_6 (Conv2D)            (None, 5, 5, 128)         147584    \n",
      "_________________________________________________________________\n",
      "max_pooling2d_3 (MaxPooling2 (None, 2, 2, 128)         0         \n",
      "_________________________________________________________________\n",
      "flatten_1 (Flatten)          (None, 512)               0         \n",
      "_________________________________________________________________\n",
      "dense_1 (Dense)              (None, 1024)              525312    \n",
      "_________________________________________________________________\n",
      "dropout_3 (Dropout)          (None, 1024)              0         \n",
      "_________________________________________________________________\n",
      "dense_2 (Dense)              (None, 1024)              1049600   \n",
      "_________________________________________________________________\n",
      "dropout_4 (Dropout)          (None, 1024)              0         \n",
      "_________________________________________________________________\n",
      "dense_3 (Dense)              (None, 7)                 7175      \n",
      "=================================================================\n",
      "Total params: 1,914,951\n",
      "Trainable params: 1,914,951\n",
      "Non-trainable params: 0\n",
      "_________________________________________________________________\n",
      "None\n",
      "WARNING:tensorflow:From /home/z1l3/.conda/envs/my_env/lib/python3.7/site-packages/keras/optimizers.py:790: The name tf.train.Optimizer is deprecated. Please use tf.compat.v1.train.Optimizer instead.\n",
      "\n",
      "WARNING:tensorflow:From /home/z1l3/.conda/envs/my_env/lib/python3.7/site-packages/keras/backend/tensorflow_backend.py:3295: The name tf.log is deprecated. Please use tf.math.log instead.\n",
      "\n",
      "WARNING:tensorflow:From /home/z1l3/.conda/envs/my_env/lib/python3.7/site-packages/tensorflow/python/ops/math_grad.py:1250: add_dispatch_support.<locals>.wrapper (from tensorflow.python.ops.array_ops) is deprecated and will be removed in a future version.\n",
      "Instructions for updating:\n",
      "Use tf.where in 2.0, which has the same broadcast rule as np.where\n",
      "WARNING:tensorflow:From /home/z1l3/.conda/envs/my_env/lib/python3.7/site-packages/keras/backend/tensorflow_backend.py:986: The name tf.assign_add is deprecated. Please use tf.compat.v1.assign_add instead.\n",
      "\n",
      "Train on 28709 samples, validate on 3589 samples\n",
      "Epoch 1/99\n",
      "28709/28709 [==============================] - 253s 9ms/step - loss: 1.6340 - acc: 0.3391 - val_loss: 1.4061 - val_acc: 0.4522\n",
      "Epoch 2/99\n",
      "28709/28709 [==============================] - 251s 9ms/step - loss: 1.3460 - acc: 0.4752 - val_loss: 1.2744 - val_acc: 0.5121\n",
      "Epoch 3/99\n",
      "28709/28709 [==============================] - 251s 9ms/step - loss: 1.2079 - acc: 0.5409 - val_loss: 1.2249 - val_acc: 0.5383\n",
      "Epoch 4/99\n",
      "28709/28709 [==============================] - 251s 9ms/step - loss: 1.1136 - acc: 0.5733 - val_loss: 1.1778 - val_acc: 0.5467\n",
      "Epoch 5/99\n",
      "28709/28709 [==============================] - 251s 9ms/step - loss: 1.0189 - acc: 0.6132 - val_loss: 1.2074 - val_acc: 0.5614\n",
      "Epoch 6/99\n",
      "28709/28709 [==============================] - 251s 9ms/step - loss: 0.9238 - acc: 0.6482 - val_loss: 1.1970 - val_acc: 0.5651\n",
      "Epoch 7/99\n",
      "28709/28709 [==============================] - 251s 9ms/step - loss: 0.8295 - acc: 0.6854 - val_loss: 1.2322 - val_acc: 0.5587\n",
      "Epoch 8/99\n",
      "28709/28709 [==============================] - 250s 9ms/step - loss: 0.7263 - acc: 0.7249 - val_loss: 1.3227 - val_acc: 0.5659\n",
      "Epoch 9/99\n",
      "28709/28709 [==============================] - 251s 9ms/step - loss: 0.6189 - acc: 0.7684 - val_loss: 1.4143 - val_acc: 0.5642\n",
      "Epoch 10/99\n",
      "28709/28709 [==============================] - 251s 9ms/step - loss: 0.5211 - acc: 0.8050 - val_loss: 1.6095 - val_acc: 0.5617\n",
      "Epoch 11/99\n",
      "28709/28709 [==============================] - 250s 9ms/step - loss: 0.4389 - acc: 0.8369 - val_loss: 1.6889 - val_acc: 0.5612\n",
      "Epoch 12/99\n",
      "28709/28709 [==============================] - 251s 9ms/step - loss: 0.3613 - acc: 0.8688 - val_loss: 1.8607 - val_acc: 0.5639\n",
      "Epoch 13/99\n",
      "28709/28709 [==============================] - 251s 9ms/step - loss: 0.3081 - acc: 0.8877 - val_loss: 2.0631 - val_acc: 0.5570\n",
      "Epoch 14/99\n",
      "28709/28709 [==============================] - 247s 9ms/step - loss: 0.2767 - acc: 0.9017 - val_loss: 2.1118 - val_acc: 0.5548\n",
      "Epoch 15/99\n",
      "28709/28709 [==============================] - 246s 9ms/step - loss: 0.2330 - acc: 0.9172 - val_loss: 2.5498 - val_acc: 0.5422\n",
      "Epoch 16/99\n",
      "28709/28709 [==============================] - 245s 9ms/step - loss: 0.2076 - acc: 0.9280 - val_loss: 2.3020 - val_acc: 0.5715\n",
      "Epoch 17/99\n",
      "28709/28709 [==============================] - 245s 9ms/step - loss: 0.1926 - acc: 0.9335 - val_loss: 2.4749 - val_acc: 0.5548\n",
      "Epoch 18/99\n",
      "28709/28709 [==============================] - 245s 9ms/step - loss: 0.1807 - acc: 0.9383 - val_loss: 2.5788 - val_acc: 0.5634\n",
      "Epoch 19/99\n",
      "28709/28709 [==============================] - 245s 9ms/step - loss: 0.1571 - acc: 0.9472 - val_loss: 2.7918 - val_acc: 0.5553\n",
      "Epoch 20/99\n",
      "28709/28709 [==============================] - 246s 9ms/step - loss: 0.1641 - acc: 0.9438 - val_loss: 2.6554 - val_acc: 0.5542\n",
      "Epoch 21/99\n",
      "28709/28709 [==============================] - 246s 9ms/step - loss: 0.1596 - acc: 0.9444 - val_loss: 2.8254 - val_acc: 0.5589\n",
      "Epoch 22/99\n",
      "28709/28709 [==============================] - 245s 9ms/step - loss: 0.1425 - acc: 0.9510 - val_loss: 2.9931 - val_acc: 0.5634\n",
      "Epoch 23/99\n",
      "28709/28709 [==============================] - 245s 9ms/step - loss: 0.1421 - acc: 0.9525 - val_loss: 2.8806 - val_acc: 0.5567\n",
      "Epoch 24/99\n",
      "28709/28709 [==============================] - 245s 9ms/step - loss: 0.1365 - acc: 0.9540 - val_loss: 2.8627 - val_acc: 0.5656\n",
      "Epoch 25/99\n",
      "28709/28709 [==============================] - 245s 9ms/step - loss: 0.1258 - acc: 0.9581 - val_loss: 2.9493 - val_acc: 0.5531\n",
      "Epoch 26/99\n",
      "28709/28709 [==============================] - 245s 9ms/step - loss: 0.1228 - acc: 0.9610 - val_loss: 2.9050 - val_acc: 0.5430\n",
      "Epoch 27/99\n",
      "28709/28709 [==============================] - 246s 9ms/step - loss: 0.1181 - acc: 0.9626 - val_loss: 2.9882 - val_acc: 0.5645\n",
      "Epoch 28/99\n",
      "28709/28709 [==============================] - 245s 9ms/step - loss: 0.1296 - acc: 0.9575 - val_loss: 2.9693 - val_acc: 0.5581\n",
      "Epoch 29/99\n",
      "28709/28709 [==============================] - 245s 9ms/step - loss: 0.1242 - acc: 0.9589 - val_loss: 3.1580 - val_acc: 0.5483\n"
     ]
    },
    {
     "name": "stdout",
     "output_type": "stream",
     "text": [
      "Epoch 30/99\n",
      "28709/28709 [==============================] - 244s 8ms/step - loss: 0.1260 - acc: 0.9598 - val_loss: 3.1411 - val_acc: 0.5550\n",
      "Epoch 31/99\n",
      "28709/28709 [==============================] - 244s 8ms/step - loss: 0.1095 - acc: 0.9644 - val_loss: 3.0699 - val_acc: 0.5559\n",
      "Epoch 32/99\n",
      "28709/28709 [==============================] - 244s 8ms/step - loss: 0.1130 - acc: 0.9626 - val_loss: 3.1730 - val_acc: 0.5550\n",
      "Epoch 33/99\n",
      "28709/28709 [==============================] - 244s 8ms/step - loss: 0.1094 - acc: 0.9634 - val_loss: 3.0795 - val_acc: 0.5598\n",
      "Epoch 34/99\n",
      "28709/28709 [==============================] - 244s 8ms/step - loss: 0.0990 - acc: 0.9681 - val_loss: 3.4233 - val_acc: 0.5667\n",
      "Epoch 35/99\n",
      "28709/28709 [==============================] - 244s 8ms/step - loss: 0.1154 - acc: 0.9618 - val_loss: 3.2987 - val_acc: 0.5497\n",
      "Epoch 36/99\n",
      "28709/28709 [==============================] - 243s 8ms/step - loss: 0.1151 - acc: 0.9638 - val_loss: 3.0700 - val_acc: 0.5670\n",
      "Epoch 37/99\n",
      "28709/28709 [==============================] - 243s 8ms/step - loss: 0.0997 - acc: 0.9682 - val_loss: 3.1462 - val_acc: 0.5589\n",
      "Epoch 38/99\n",
      "28709/28709 [==============================] - 243s 8ms/step - loss: 0.1126 - acc: 0.9644 - val_loss: 3.2171 - val_acc: 0.5539\n",
      "Epoch 39/99\n",
      "28709/28709 [==============================] - 243s 8ms/step - loss: 0.1054 - acc: 0.9666 - val_loss: 3.1920 - val_acc: 0.5456\n",
      "Epoch 40/99\n",
      "28709/28709 [==============================] - 243s 8ms/step - loss: 0.1064 - acc: 0.9669 - val_loss: 3.1334 - val_acc: 0.5592\n",
      "Epoch 41/99\n",
      "28709/28709 [==============================] - 243s 8ms/step - loss: 0.0912 - acc: 0.9712 - val_loss: 3.3470 - val_acc: 0.5628\n",
      "Epoch 42/99\n",
      "28709/28709 [==============================] - 243s 8ms/step - loss: 0.1057 - acc: 0.9666 - val_loss: 3.1925 - val_acc: 0.5511\n",
      "Epoch 43/99\n",
      "28709/28709 [==============================] - 243s 8ms/step - loss: 0.0981 - acc: 0.9704 - val_loss: 3.1501 - val_acc: 0.5748\n",
      "Epoch 44/99\n",
      "28709/28709 [==============================] - 243s 8ms/step - loss: 0.1017 - acc: 0.9682 - val_loss: 3.1277 - val_acc: 0.5589\n",
      "Epoch 45/99\n",
      "28709/28709 [==============================] - 243s 8ms/step - loss: 0.1002 - acc: 0.9693 - val_loss: 3.3073 - val_acc: 0.5587\n",
      "Epoch 46/99\n",
      "28709/28709 [==============================] - 243s 8ms/step - loss: 0.1109 - acc: 0.9668 - val_loss: 3.2155 - val_acc: 0.5589\n",
      "Epoch 47/99\n",
      "28709/28709 [==============================] - 243s 8ms/step - loss: 0.0820 - acc: 0.9735 - val_loss: 3.3186 - val_acc: 0.5681\n",
      "Epoch 48/99\n",
      "28709/28709 [==============================] - 243s 8ms/step - loss: 0.0964 - acc: 0.9692 - val_loss: 3.2902 - val_acc: 0.5536\n",
      "Epoch 49/99\n",
      "28709/28709 [==============================] - 243s 8ms/step - loss: 0.1033 - acc: 0.9680 - val_loss: 3.3481 - val_acc: 0.5589\n",
      "Epoch 50/99\n",
      "28709/28709 [==============================] - 243s 8ms/step - loss: 0.1021 - acc: 0.9676 - val_loss: 3.3514 - val_acc: 0.5548\n",
      "Epoch 51/99\n",
      "28709/28709 [==============================] - 248s 9ms/step - loss: 0.0969 - acc: 0.9693 - val_loss: 3.2385 - val_acc: 0.5478\n",
      "Epoch 52/99\n",
      "28709/28709 [==============================] - 243s 8ms/step - loss: 0.0742 - acc: 0.9762 - val_loss: 3.3227 - val_acc: 0.5617\n",
      "Epoch 53/99\n",
      "28709/28709 [==============================] - 242s 8ms/step - loss: 0.0915 - acc: 0.9723 - val_loss: 3.2459 - val_acc: 0.5634\n",
      "Epoch 54/99\n",
      "28709/28709 [==============================] - 242s 8ms/step - loss: 0.1065 - acc: 0.9672 - val_loss: 3.3112 - val_acc: 0.5531\n",
      "Epoch 55/99\n",
      "28709/28709 [==============================] - 242s 8ms/step - loss: 0.0841 - acc: 0.9739 - val_loss: 3.4058 - val_acc: 0.5612\n",
      "Epoch 56/99\n",
      "28709/28709 [==============================] - 243s 8ms/step - loss: 0.0920 - acc: 0.9717 - val_loss: 3.3138 - val_acc: 0.5584\n",
      "Epoch 57/99\n",
      "28709/28709 [==============================] - 248s 9ms/step - loss: 0.0981 - acc: 0.9696 - val_loss: 3.1358 - val_acc: 0.5536\n",
      "Epoch 58/99\n",
      "28709/28709 [==============================] - 244s 8ms/step - loss: 0.0871 - acc: 0.9723 - val_loss: 3.2524 - val_acc: 0.5637\n",
      "Epoch 59/99\n",
      "28709/28709 [==============================] - 244s 8ms/step - loss: 0.0802 - acc: 0.9760 - val_loss: 3.3406 - val_acc: 0.5606\n",
      "Epoch 60/99\n",
      "28709/28709 [==============================] - 244s 8ms/step - loss: 0.0969 - acc: 0.9709 - val_loss: 3.5060 - val_acc: 0.5556\n",
      "Epoch 61/99\n",
      "28709/28709 [==============================] - 244s 8ms/step - loss: 0.0957 - acc: 0.9724 - val_loss: 3.2806 - val_acc: 0.5628\n",
      "Epoch 62/99\n",
      "28709/28709 [==============================] - 244s 8ms/step - loss: 0.0870 - acc: 0.9734 - val_loss: 3.3580 - val_acc: 0.5598\n",
      "Epoch 63/99\n",
      "28709/28709 [==============================] - 245s 9ms/step - loss: 0.0981 - acc: 0.9700 - val_loss: 3.4028 - val_acc: 0.5522\n",
      "Epoch 64/99\n",
      "28709/28709 [==============================] - 253s 9ms/step - loss: 0.0893 - acc: 0.9726 - val_loss: 3.3422 - val_acc: 0.5587\n",
      "Epoch 65/99\n",
      "28709/28709 [==============================] - 260s 9ms/step - loss: 0.0755 - acc: 0.9776 - val_loss: 3.4264 - val_acc: 0.5478\n",
      "Epoch 66/99\n",
      "28709/28709 [==============================] - 259s 9ms/step - loss: 0.0815 - acc: 0.9748 - val_loss: 3.6379 - val_acc: 0.5564\n",
      "Epoch 67/99\n",
      "28709/28709 [==============================] - 259s 9ms/step - loss: 0.0851 - acc: 0.9743 - val_loss: 3.5850 - val_acc: 0.5567\n",
      "Epoch 68/99\n",
      "28709/28709 [==============================] - 258s 9ms/step - loss: 0.0926 - acc: 0.9721 - val_loss: 3.5055 - val_acc: 0.5492\n",
      "Epoch 69/99\n",
      "28709/28709 [==============================] - 261s 9ms/step - loss: 0.0961 - acc: 0.9701 - val_loss: 3.6289 - val_acc: 0.5656\n",
      "Epoch 70/99\n",
      "28709/28709 [==============================] - 249s 9ms/step - loss: 0.0835 - acc: 0.9768 - val_loss: 3.6126 - val_acc: 0.5503\n",
      "Epoch 71/99\n",
      "28709/28709 [==============================] - 265s 9ms/step - loss: 0.0912 - acc: 0.9721 - val_loss: 3.6249 - val_acc: 0.5531\n",
      "Epoch 72/99\n",
      "28709/28709 [==============================] - 267s 9ms/step - loss: 0.0766 - acc: 0.9768 - val_loss: 3.3008 - val_acc: 0.5645\n",
      "Epoch 73/99\n",
      "28709/28709 [==============================] - 264s 9ms/step - loss: 0.0901 - acc: 0.9733 - val_loss: 3.5043 - val_acc: 0.5503\n",
      "Epoch 74/99\n",
      "28709/28709 [==============================] - 269s 9ms/step - loss: 0.0853 - acc: 0.9745 - val_loss: 3.5085 - val_acc: 0.5637\n",
      "Epoch 75/99\n",
      "28709/28709 [==============================] - 259s 9ms/step - loss: 0.0852 - acc: 0.9741 - val_loss: 3.6571 - val_acc: 0.5614\n",
      "Epoch 76/99\n",
      "28709/28709 [==============================] - 241s 8ms/step - loss: 0.0831 - acc: 0.9762 - val_loss: 3.3366 - val_acc: 0.5531\n",
      "Epoch 77/99\n",
      "28709/28709 [==============================] - 275s 10ms/step - loss: 0.0789 - acc: 0.9760 - val_loss: 3.5158 - val_acc: 0.5673\n",
      "Epoch 78/99\n",
      "28709/28709 [==============================] - 297s 10ms/step - loss: 0.0718 - acc: 0.9786 - val_loss: 3.5657 - val_acc: 0.5570\n",
      "Epoch 79/99\n",
      "28709/28709 [==============================] - 299s 10ms/step - loss: 0.0877 - acc: 0.9738 - val_loss: 3.4234 - val_acc: 0.5581\n",
      "Epoch 80/99\n",
      "28709/28709 [==============================] - 266s 9ms/step - loss: 0.0901 - acc: 0.9736 - val_loss: 3.3044 - val_acc: 0.5517\n",
      "Epoch 81/99\n",
      "28709/28709 [==============================] - 244s 9ms/step - loss: 0.0815 - acc: 0.9759 - val_loss: 3.4608 - val_acc: 0.5634\n",
      "Epoch 82/99\n",
      "28709/28709 [==============================] - 244s 9ms/step - loss: 0.0737 - acc: 0.9783 - val_loss: 3.6055 - val_acc: 0.5511\n",
      "Epoch 83/99\n",
      "28709/28709 [==============================] - 244s 8ms/step - loss: 0.0818 - acc: 0.9757 - val_loss: 3.6702 - val_acc: 0.5447\n",
      "Epoch 84/99\n",
      "28709/28709 [==============================] - 244s 8ms/step - loss: 0.0853 - acc: 0.9749 - val_loss: 3.7731 - val_acc: 0.5444\n",
      "Epoch 85/99\n",
      "28709/28709 [==============================] - 244s 9ms/step - loss: 0.0856 - acc: 0.9743 - val_loss: 3.5849 - val_acc: 0.5606\n",
      "Epoch 86/99\n",
      "28709/28709 [==============================] - 244s 8ms/step - loss: 0.0689 - acc: 0.9790 - val_loss: 3.6768 - val_acc: 0.5584\n",
      "Epoch 87/99\n",
      "28709/28709 [==============================] - 244s 8ms/step - loss: 0.0755 - acc: 0.9782 - val_loss: 3.5689 - val_acc: 0.5642\n",
      "Epoch 88/99\n",
      "28709/28709 [==============================] - 244s 8ms/step - loss: 0.0824 - acc: 0.9754 - val_loss: 3.6557 - val_acc: 0.5514\n"
     ]
    },
    {
     "name": "stdout",
     "output_type": "stream",
     "text": [
      "Epoch 89/99\n",
      "28709/28709 [==============================] - 242s 8ms/step - loss: 0.0913 - acc: 0.9758 - val_loss: 3.5635 - val_acc: 0.5394\n",
      "Epoch 90/99\n",
      "28709/28709 [==============================] - 243s 8ms/step - loss: 0.0749 - acc: 0.9784 - val_loss: 3.8735 - val_acc: 0.5511\n",
      "Epoch 91/99\n",
      "28709/28709 [==============================] - 243s 8ms/step - loss: 0.0992 - acc: 0.9722 - val_loss: 3.6327 - val_acc: 0.5525\n",
      "Epoch 92/99\n",
      "28709/28709 [==============================] - 244s 8ms/step - loss: 0.0857 - acc: 0.9754 - val_loss: 3.7013 - val_acc: 0.5637\n",
      "Epoch 93/99\n",
      "28709/28709 [==============================] - 251s 9ms/step - loss: 0.0760 - acc: 0.9786 - val_loss: 3.5892 - val_acc: 0.5626\n",
      "Epoch 94/99\n",
      "28709/28709 [==============================] - 269s 9ms/step - loss: 0.0723 - acc: 0.9781 - val_loss: 3.7639 - val_acc: 0.5637\n",
      "Epoch 95/99\n",
      "28709/28709 [==============================] - 261s 9ms/step - loss: 0.0824 - acc: 0.9770 - val_loss: 3.7610 - val_acc: 0.5692\n",
      "Epoch 96/99\n",
      "28709/28709 [==============================] - 260s 9ms/step - loss: 0.0945 - acc: 0.9743 - val_loss: 3.5061 - val_acc: 0.5514\n",
      "Epoch 97/99\n",
      "28709/28709 [==============================] - 268s 9ms/step - loss: 0.0939 - acc: 0.9728 - val_loss: 3.5110 - val_acc: 0.5575\n",
      "Epoch 98/99\n",
      "28709/28709 [==============================] - 275s 10ms/step - loss: 0.0728 - acc: 0.9789 - val_loss: 3.7423 - val_acc: 0.5545\n",
      "Epoch 99/99\n",
      "28709/28709 [==============================] - 243s 8ms/step - loss: 0.0675 - acc: 0.9787 - val_loss: 3.8153 - val_acc: 0.5676\n",
      "dict_keys(['val_loss', 'val_acc', 'loss', 'acc'])\n",
      "model_saved\n"
     ]
    }
   ],
   "source": [
    "if __name__ == '__main__':\n",
    "    x_train, y_train, x_test, y_test = prepare_data_set()\n",
    "    model = build_model()\n",
    "    model_summary()\n",
    "    history = train_model(model, x_train, y_train, x_test, y_test)\n",
    "    print(history.history.keys())\n",
    "    model.save(\"all_keras_model.h5\")\n",
    "    print('model_saved')\n",
    "    \n",
    "    \n",
    "    "
   ]
  },
  {
   "cell_type": "code",
   "execution_count": 10,
   "metadata": {},
   "outputs": [],
   "source": [
    "def save_keras_model(model):\n",
    "    os.makedirs('./keras_model', exist_ok=True)\n",
    "    model_json = model.to_json()\n",
    "    with open(\"./keras_model/model.json\", \"w\") as json_file:\n",
    "        json_file.write(model_json) # Save keras model as JSON\n",
    "    model.save_weights(\"./keras_model/model.h5\")# serialize weights to HDF5\n",
    "    print(\"Saved model to disk\")\n",
    "    \n",
    "    # model.save('./keras_model/keras_model.h5')"
   ]
  },
  {
   "cell_type": "code",
   "execution_count": 11,
   "metadata": {},
   "outputs": [
    {
     "name": "stdout",
     "output_type": "stream",
     "text": [
      "Saved model to disk\n"
     ]
    }
   ],
   "source": [
    "save_keras_model(model)\n"
   ]
  },
  {
   "cell_type": "code",
   "execution_count": 12,
   "metadata": {},
   "outputs": [
    {
     "data": {
      "image/png": "[encoded data removed]",
      "text/plain": [
       "<Figure size 432x288 with 1 Axes>"
      ]
     },
     "metadata": {
      "needs_background": "light"
     },
     "output_type": "display_data"
    },
    {
     "data": {
      "image/png": "[encoded data removed]",
      "text/plain": [
       "<Figure size 432x288 with 1 Axes>"
      ]
     },
     "metadata": {
      "needs_background": "light"
     },
     "output_type": "display_data"
    }
   ],
   "source": [
    "plt.plot(history.history['acc'])\n",
    "plt.plot(history.history['val_acc'])\n",
    "plt.title('model accuracy')\n",
    "plt.ylabel('accuracy')\n",
    "plt.xlabel('epoch')\n",
    "plt.legend(['train', 'test'], loc='upper left')\n",
    "plt.show()\n",
    "# summarize history for loss\n",
    "plt.plot(history.history['loss'])\n",
    "plt.plot(history.history['val_loss'])\n",
    "plt.title('model loss')\n",
    "plt.ylabel('loss')\n",
    "plt.xlabel('epoch')\n",
    "plt.legend(['train', 'test'], loc='upper left')\n",
    "plt.show()"
   ]
  },
  {
   "cell_type": "code",
   "execution_count": 2,
   "metadata": {},
   "outputs": [
    {
     "ename": "NameError",
     "evalue": "name 'load_model' is not defined",
     "output_type": "error",
     "traceback": [
      "\u001b[0;31m---------------------------------------------------------------------------\u001b[0m",
      "\u001b[0;31mNameError\u001b[0m                                 Traceback (most recent call last)",
      "\u001b[0;32m<ipython-input-2-ca966c0071af>\u001b[0m in \u001b[0;36m<module>\u001b[0;34m\u001b[0m\n\u001b[0;32m----> 1\u001b[0;31m \u001b[0mloaded_keras_model\u001b[0m \u001b[0;34m=\u001b[0m \u001b[0mload_model\u001b[0m\u001b[0;34m(\u001b[0m\u001b[0;34m'./model/keras_model.h5'\u001b[0m\u001b[0;34m)\u001b[0m\u001b[0;34m\u001b[0m\u001b[0;34m\u001b[0m\u001b[0m\n\u001b[0m",
      "\u001b[0;31mNameError\u001b[0m: name 'load_model' is not defined"
     ]
    }
   ],
   "source": [
    "loaded_keras_model = load_model('./model/keras_model.h5')"
   ]
  },
  {
   "cell_type": "code",
   "execution_count": 1,
   "metadata": {},
   "outputs": [
    {
     "name": "stdout",
     "output_type": "stream",
     "text": [
      "These are the model inputs and outputs\n"
     ]
    },
    {
     "ename": "NameError",
     "evalue": "name 'model' is not defined",
     "output_type": "error",
     "traceback": [
      "\u001b[0;31m---------------------------------------------------------------------------\u001b[0m",
      "\u001b[0;31mNameError\u001b[0m                                 Traceback (most recent call last)",
      "\u001b[0;32m<ipython-input-1-47c0a295e70c>\u001b[0m in \u001b[0;36m<module>\u001b[0;34m\u001b[0m\n\u001b[1;32m      1\u001b[0m \u001b[0mprint\u001b[0m\u001b[0;34m(\u001b[0m\u001b[0;34m'These are the model inputs and outputs'\u001b[0m\u001b[0;34m)\u001b[0m\u001b[0;34m\u001b[0m\u001b[0;34m\u001b[0m\u001b[0m\n\u001b[0;32m----> 2\u001b[0;31m \u001b[0mprint\u001b[0m\u001b[0;34m(\u001b[0m\u001b[0mmodel\u001b[0m\u001b[0;34m.\u001b[0m\u001b[0minputs\u001b[0m\u001b[0;34m)\u001b[0m\u001b[0;34m\u001b[0m\u001b[0;34m\u001b[0m\u001b[0m\n\u001b[0m\u001b[1;32m      3\u001b[0m \u001b[0mprint\u001b[0m\u001b[0;34m(\u001b[0m\u001b[0mmodel\u001b[0m\u001b[0;34m.\u001b[0m\u001b[0moutputs\u001b[0m\u001b[0;34m)\u001b[0m\u001b[0;34m\u001b[0m\u001b[0;34m\u001b[0m\u001b[0m\n\u001b[1;32m      4\u001b[0m \u001b[0;34m\u001b[0m\u001b[0m\n\u001b[1;32m      5\u001b[0m \u001b[0mprint\u001b[0m\u001b[0;34m(\u001b[0m\u001b[0;34m'----------------------'\u001b[0m\u001b[0;34m)\u001b[0m\u001b[0;34m\u001b[0m\u001b[0;34m\u001b[0m\u001b[0m\n",
      "\u001b[0;31mNameError\u001b[0m: name 'model' is not defined"
     ]
    }
   ],
   "source": [
    "print('These are the model inputs and outputs')\n",
    "print(model.inputs)\n",
    "print(model.outputs)\n",
    "\n",
    "print('----------------------')\n",
    "\n",
    "print(loaded_keras_model.inputs)\n",
    "print(loaded_keras_model.outputs)"
   ]
  },
  {
   "cell_type": "code",
   "execution_count": null,
   "metadata": {},
   "outputs": [],
   "source": [
    "MODEL_NAME = 'conda_emotion'"
   ]
  },
  {
   "cell_type": "code",
   "execution_count": null,
   "metadata": {},
   "outputs": [],
   "source": [
    "tf.train.write_graph(K.get_session().graph_def, 'out', MODEL_NAME + '_graph.pbtxt')"
   ]
  },
  {
   "cell_type": "code",
   "execution_count": null,
   "metadata": {},
   "outputs": [],
   "source": [
    "tf.train.Saver().save(K.get_session(), 'out/' + MODEL_NAME + '.chkp')"
   ]
  },
  {
   "cell_type": "code",
   "execution_count": null,
   "metadata": {},
   "outputs": [],
   "source": [
    "freeze_graph.freeze_graph('out/' + MODEL_NAME + '_graph.pbtxt', None, False, 'out/'\n",
    "                              + MODEL_NAME + '.chkp', 'dense_3/Softmax', \"save/restore_all\",\n",
    "                              \"save/Const:0\", 'out/frozen_' + MODEL_NAME + '.pb', True, \"\")"
   ]
  },
  {
   "cell_type": "code",
   "execution_count": null,
   "metadata": {},
   "outputs": [],
   "source": [
    "input_graph_def = tf.GraphDef()"
   ]
  },
  {
   "cell_type": "code",
   "execution_count": null,
   "metadata": {},
   "outputs": [],
   "source": [
    "with tf.gfile.Open('out/frozen_' + MODEL_NAME + '.pb', \"rb\") as f:\n",
    "    input_graph_def.ParseFromString(f.read())"
   ]
  },
  {
   "cell_type": "code",
   "execution_count": null,
   "metadata": {},
   "outputs": [],
   "source": [
    "output_graph_def = optimize_for_inference_lib.optimize_for_inference(\n",
    "            input_graph_def, ['conv2d_1_input'], ['dense_3/Softmax'],\n",
    "            tf.float32.as_datatype_enum)"
   ]
  },
  {
   "cell_type": "code",
   "execution_count": null,
   "metadata": {},
   "outputs": [],
   "source": [
    "with tf.gfile.GFile('out/opt_' + MODEL_NAME + '.pb', \"wb\") as f:\n",
    "    f.write(output_graph_def.SerializeToString())"
   ]
  },
  {
   "cell_type": "code",
   "execution_count": null,
   "metadata": {},
   "outputs": [],
   "source": [
    "print('graph saved')"
   ]
  }
 ],
 "metadata": {
  "kernelspec": {
   "display_name": "Python 3",
   "language": "python",
   "name": "python3"
  },
  "language_info": {
   "codemirror_mode": {
    "name": "ipython",
    "version": 3
   },
   "file_extension": ".py",
   "mimetype": "text/x-python",
   "name": "python",
   "nbconvert_exporter": "python",
   "pygments_lexer": "ipython3",
   "version": "3.7.5"
  }
 },
 "nbformat": 4,
 "nbformat_minor": 4
}
